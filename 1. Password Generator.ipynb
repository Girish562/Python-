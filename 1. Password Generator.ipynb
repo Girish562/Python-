{
 "cells": [
  {
   "cell_type": "code",
   "execution_count": 1,
   "id": "b2d8923d-ed7f-4b2e-b1a4-7a8f62be1935",
   "metadata": {},
   "outputs": [],
   "source": [
    "import random"
   ]
  },
  {
   "cell_type": "code",
   "execution_count": 2,
   "id": "5e31501a-f5fb-4a29-b29c-e26ae6c8f505",
   "metadata": {},
   "outputs": [],
   "source": [
    "letters= ['a','b','c','d','e','f','g','h','i','j','k','l','m','n','o','p','q','r','s','t','u','v','w','x','y','z','A','B','C','D','E','F','G','H','I','J','K','L','M','N','O','P','Q','R','S','T','U','V','W','X','Y','Z']\n",
    "numbers= ['0','1','2','3','4','5','6','7','8','9']\n",
    "symbols= ['!','@','#','$','%','&','*','(',')','+','*']"
   ]
  },
  {
   "cell_type": "code",
   "execution_count": 17,
   "id": "6d79e6e2-0eec-467b-8737-48dd66c02769",
   "metadata": {},
   "outputs": [
    {
     "name": "stdout",
     "output_type": "stream",
     "text": [
      "Welcome to Password Generator!\n"
     ]
    },
    {
     "name": "stdin",
     "output_type": "stream",
     "text": [
      "How many letters you want in your password?\n",
      " 4\n",
      "How many symbols you want in your password?\n",
      " 3\n",
      "How many numbers you want in your password?\n",
      " 2\n"
     ]
    },
    {
     "name": "stdout",
     "output_type": "stream",
     "text": [
      "6!)&Y2xYj\n"
     ]
    }
   ],
   "source": [
    "print('Welcome to Password Generator!')\n",
    "n_letters= int(input('How many letters you want in your password?\\n'))\n",
    "n_symbols= int(input('How many symbols you want in your password?\\n'))\n",
    "n_numbers= int(input('How many numbers you want in your password?\\n'))\n",
    "password_list=[]\n",
    "for i in range(1,n_letters+1):\n",
    "    char= random.choice(letters)\n",
    "    password_list += char\n",
    "\n",
    "for i in range(1,n_symbols+1):\n",
    "    char= random.choice(symbols)\n",
    "    password_list += char\n",
    "\n",
    "for i in range(1,n_numbers+1):\n",
    "    char= random.choice(numbers)\n",
    "    password_list += char\n",
    "\n",
    "## print(password_list)\n",
    "random.shuffle(password_list)\n",
    "## print(password_list)\n",
    "password=\"\"\n",
    "for char in password_list:\n",
    "    password += char\n",
    "print(password)"
   ]
  },
  {
   "cell_type": "code",
   "execution_count": null,
   "id": "b50f0536-9202-4b7a-91da-30c6d7000485",
   "metadata": {},
   "outputs": [],
   "source": []
  }
 ],
 "metadata": {
  "kernelspec": {
   "display_name": "Python 3 (ipykernel)",
   "language": "python",
   "name": "python3"
  },
  "language_info": {
   "codemirror_mode": {
    "name": "ipython",
    "version": 3
   },
   "file_extension": ".py",
   "mimetype": "text/x-python",
   "name": "python",
   "nbconvert_exporter": "python",
   "pygments_lexer": "ipython3",
   "version": "3.12.4"
  }
 },
 "nbformat": 4,
 "nbformat_minor": 5
}
