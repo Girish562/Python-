{
 "cells": [
  {
   "cell_type": "code",
   "execution_count": null,
   "id": "167d597c-95dd-4747-b1e9-69e39eebaebb",
   "metadata": {},
   "outputs": [],
   "source": [
    "import matplotlib.pyplot as plt\n",
    "import matplotlib.animation as animation\n",
    "import numpy as np\n",
    "\n",
    "num_points = 100\n",
    "x, y = np.random.rand(2, num_points) * 10\n",
    "colors = np.random.rand(num_points)\n",
    "sizes = np.random.rand(num_points) * 1000\n",
    "\n",
    "fig, ax = plt.subplots()\n",
    "scat = ax.scatrer(x, y, c=colors, s=sizes, alpha=0.7, cmap='viridis')\n",
    "ax.set_xlim(0,10)\n",
    "ax.set_xlim(0,10)\n",
    "\n",
    "def animate(i):\n",
    "\n",
    "    new_x = x +np.random.randn(num_points) * 0.1\n",
    "    new_y = y +np.random.randn(num_points) * 0.1\n",
    "    scat.set_offsets(np.c_[new_x, new_y])\n",
    "    "
   ]
  }
 ],
 "metadata": {
  "kernelspec": {
   "display_name": "Python 3 (ipykernel)",
   "language": "python",
   "name": "python3"
  },
  "language_info": {
   "codemirror_mode": {
    "name": "ipython",
    "version": 3
   },
   "file_extension": ".py",
   "mimetype": "text/x-python",
   "name": "python",
   "nbconvert_exporter": "python",
   "pygments_lexer": "ipython3",
   "version": "3.12.4"
  }
 },
 "nbformat": 4,
 "nbformat_minor": 5
}
