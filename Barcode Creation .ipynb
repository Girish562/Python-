{
 "cells": [
  {
   "cell_type": "code",
   "execution_count": 1,
   "id": "645062c9-d8df-4351-b076-aa3a909d6519",
   "metadata": {},
   "outputs": [
    {
     "ename": "ModuleNotFoundError",
     "evalue": "No module named 'barcode'",
     "output_type": "error",
     "traceback": [
      "\u001b[1;31m---------------------------------------------------------------------------\u001b[0m",
      "\u001b[1;31mModuleNotFoundError\u001b[0m                       Traceback (most recent call last)",
      "Cell \u001b[1;32mIn[1], line 1\u001b[0m\n\u001b[1;32m----> 1\u001b[0m \u001b[38;5;28;01mimport\u001b[39;00m \u001b[38;5;21;01mbarcode\u001b[39;00m\n\u001b[0;32m      2\u001b[0m \u001b[38;5;28;01mfrom\u001b[39;00m \u001b[38;5;21;01mbarcode\u001b[39;00m\u001b[38;5;21;01m.\u001b[39;00m\u001b[38;5;21;01mwrite\u001b[39;00m \u001b[38;5;28;01mimport\u001b[39;00m ImageWriter\n\u001b[0;32m      3\u001b[0m \u001b[38;5;28;01mfrom\u001b[39;00m \u001b[38;5;21;01mIPython\u001b[39;00m\u001b[38;5;21;01m.\u001b[39;00m\u001b[38;5;21;01mdisplay\u001b[39;00m \u001b[38;5;28;01mimport\u001b[39;00m Image, display\n",
      "\u001b[1;31mModuleNotFoundError\u001b[0m: No module named 'barcode'"
     ]
    }
   ],
   "source": [
    "import barcode\n",
    "from barcode.write import ImageWriter\n",
    "from IPython.display import Image, display\n",
    "\n",
    "barcode_format = barcode.get_barcode_class('ean13')\n",
    "\n",
    "barcode_number = '1234567895540'\n",
    "\n",
    "barcode_image = barcode_format(barcode_number, writer=ImageWriter())\n",
    "\n",
    "barcode_filename = 'barcode_image'\n",
    "barcode_image.save(barcode_filename)\n",
    "\n",
    "display(Image(filename=f'{barcode_filename}.png'))"
   ]
  },
  {
   "cell_type": "code",
   "execution_count": null,
   "id": "938bb9e7-701a-4ba6-a673-a0dd8751e88c",
   "metadata": {},
   "outputs": [],
   "source": []
  }
 ],
 "metadata": {
  "kernelspec": {
   "display_name": "Python 3 (ipykernel)",
   "language": "python",
   "name": "python3"
  },
  "language_info": {
   "codemirror_mode": {
    "name": "ipython",
    "version": 3
   },
   "file_extension": ".py",
   "mimetype": "text/x-python",
   "name": "python",
   "nbconvert_exporter": "python",
   "pygments_lexer": "ipython3",
   "version": "3.12.4"
  }
 },
 "nbformat": 4,
 "nbformat_minor": 5
}
